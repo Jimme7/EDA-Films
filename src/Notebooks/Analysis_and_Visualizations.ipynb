{
 "cells": [
  {
   "cell_type": "markdown",
   "metadata": {},
   "source": [
    "# ANÁLISIS Y VISUALIZACIONES"
   ]
  },
  {
   "cell_type": "code",
   "execution_count": 2,
   "metadata": {},
   "outputs": [],
   "source": [
    "#Importamos librerías\n",
    "import pandas as pd\n",
    "import matplotlib.pyplot as plt\n",
    "import seaborn as sns"
   ]
  },
  {
   "cell_type": "code",
   "execution_count": 9,
   "metadata": {},
   "outputs": [],
   "source": [
    "#Importamos los DF limpios\n",
    "films = pd.read_csv('../Data/clean_films.csv', index_col=0)\n",
    "series = pd.read_csv('../Data/clean_series.csv', index_col=0)"
   ]
  },
  {
   "cell_type": "code",
   "execution_count": 10,
   "metadata": {},
   "outputs": [
    {
     "data": {
      "text/html": [
       "<div>\n",
       "<style scoped>\n",
       "    .dataframe tbody tr th:only-of-type {\n",
       "        vertical-align: middle;\n",
       "    }\n",
       "\n",
       "    .dataframe tbody tr th {\n",
       "        vertical-align: top;\n",
       "    }\n",
       "\n",
       "    .dataframe thead th {\n",
       "        text-align: right;\n",
       "    }\n",
       "</style>\n",
       "<table border=\"1\" class=\"dataframe\">\n",
       "  <thead>\n",
       "    <tr style=\"text-align: right;\">\n",
       "      <th></th>\n",
       "      <th>film_id</th>\n",
       "      <th>title</th>\n",
       "      <th>original_language</th>\n",
       "      <th>genre_ids</th>\n",
       "      <th>release_date</th>\n",
       "      <th>popularity</th>\n",
       "      <th>vote_average</th>\n",
       "      <th>vote_count</th>\n",
       "      <th>id</th>\n",
       "      <th>genre</th>\n",
       "      <th>release_year</th>\n",
       "      <th>release_month</th>\n",
       "    </tr>\n",
       "  </thead>\n",
       "  <tbody>\n",
       "    <tr>\n",
       "      <th>0</th>\n",
       "      <td>565770</td>\n",
       "      <td>Blue Beetle</td>\n",
       "      <td>en</td>\n",
       "      <td>28</td>\n",
       "      <td>2023-08-16</td>\n",
       "      <td>2973</td>\n",
       "      <td>7.2</td>\n",
       "      <td>956</td>\n",
       "      <td>28</td>\n",
       "      <td>Action</td>\n",
       "      <td>2023</td>\n",
       "      <td>August</td>\n",
       "    </tr>\n",
       "    <tr>\n",
       "      <th>1</th>\n",
       "      <td>762430</td>\n",
       "      <td>Retribution</td>\n",
       "      <td>en</td>\n",
       "      <td>28</td>\n",
       "      <td>2023-08-23</td>\n",
       "      <td>1485</td>\n",
       "      <td>6.9</td>\n",
       "      <td>236</td>\n",
       "      <td>28</td>\n",
       "      <td>Action</td>\n",
       "      <td>2023</td>\n",
       "      <td>August</td>\n",
       "    </tr>\n",
       "    <tr>\n",
       "      <th>2</th>\n",
       "      <td>615656</td>\n",
       "      <td>Meg 2: The Trench</td>\n",
       "      <td>en</td>\n",
       "      <td>28</td>\n",
       "      <td>2023-08-02</td>\n",
       "      <td>1323</td>\n",
       "      <td>7.0</td>\n",
       "      <td>1973</td>\n",
       "      <td>28</td>\n",
       "      <td>Action</td>\n",
       "      <td>2023</td>\n",
       "      <td>August</td>\n",
       "    </tr>\n",
       "    <tr>\n",
       "      <th>3</th>\n",
       "      <td>385687</td>\n",
       "      <td>Fast X</td>\n",
       "      <td>en</td>\n",
       "      <td>28</td>\n",
       "      <td>2023-05-17</td>\n",
       "      <td>1183</td>\n",
       "      <td>7.3</td>\n",
       "      <td>3867</td>\n",
       "      <td>28</td>\n",
       "      <td>Action</td>\n",
       "      <td>2023</td>\n",
       "      <td>May</td>\n",
       "    </tr>\n",
       "    <tr>\n",
       "      <th>4</th>\n",
       "      <td>980489</td>\n",
       "      <td>Gran Turismo</td>\n",
       "      <td>en</td>\n",
       "      <td>28</td>\n",
       "      <td>2023-08-09</td>\n",
       "      <td>977</td>\n",
       "      <td>7.8</td>\n",
       "      <td>473</td>\n",
       "      <td>28</td>\n",
       "      <td>Action</td>\n",
       "      <td>2023</td>\n",
       "      <td>August</td>\n",
       "    </tr>\n",
       "  </tbody>\n",
       "</table>\n",
       "</div>"
      ],
      "text/plain": [
       "   film_id              title original_language  genre_ids release_date  \\\n",
       "0   565770        Blue Beetle                en         28   2023-08-16   \n",
       "1   762430        Retribution                en         28   2023-08-23   \n",
       "2   615656  Meg 2: The Trench                en         28   2023-08-02   \n",
       "3   385687             Fast X                en         28   2023-05-17   \n",
       "4   980489       Gran Turismo                en         28   2023-08-09   \n",
       "\n",
       "   popularity  vote_average  vote_count  id   genre  release_year  \\\n",
       "0        2973           7.2         956  28  Action          2023   \n",
       "1        1485           6.9         236  28  Action          2023   \n",
       "2        1323           7.0        1973  28  Action          2023   \n",
       "3        1183           7.3        3867  28  Action          2023   \n",
       "4         977           7.8         473  28  Action          2023   \n",
       "\n",
       "  release_month  \n",
       "0        August  \n",
       "1        August  \n",
       "2        August  \n",
       "3           May  \n",
       "4        August  "
      ]
     },
     "execution_count": 10,
     "metadata": {},
     "output_type": "execute_result"
    }
   ],
   "source": [
    "films.head(5)"
   ]
  },
  {
   "cell_type": "code",
   "execution_count": 11,
   "metadata": {},
   "outputs": [
    {
     "data": {
      "text/html": [
       "<div>\n",
       "<style scoped>\n",
       "    .dataframe tbody tr th:only-of-type {\n",
       "        vertical-align: middle;\n",
       "    }\n",
       "\n",
       "    .dataframe tbody tr th {\n",
       "        vertical-align: top;\n",
       "    }\n",
       "\n",
       "    .dataframe thead th {\n",
       "        text-align: right;\n",
       "    }\n",
       "</style>\n",
       "<table border=\"1\" class=\"dataframe\">\n",
       "  <thead>\n",
       "    <tr style=\"text-align: right;\">\n",
       "      <th></th>\n",
       "      <th>serie_id</th>\n",
       "      <th>name</th>\n",
       "      <th>origin_country</th>\n",
       "      <th>popularity</th>\n",
       "      <th>vote_average</th>\n",
       "      <th>vote_count</th>\n",
       "      <th>num_episodes</th>\n",
       "      <th>episode_duration</th>\n",
       "      <th>first_air_date</th>\n",
       "      <th>genre</th>\n",
       "      <th>release_year</th>\n",
       "      <th>release_month</th>\n",
       "    </tr>\n",
       "  </thead>\n",
       "  <tbody>\n",
       "    <tr>\n",
       "      <th>0</th>\n",
       "      <td>94722</td>\n",
       "      <td>Tagesschau</td>\n",
       "      <td>DE</td>\n",
       "      <td>3359</td>\n",
       "      <td>7.5</td>\n",
       "      <td>147</td>\n",
       "      <td>20839</td>\n",
       "      <td>15.0</td>\n",
       "      <td>1952-12-26</td>\n",
       "      <td>News</td>\n",
       "      <td>1952</td>\n",
       "      <td>December</td>\n",
       "    </tr>\n",
       "    <tr>\n",
       "      <th>1</th>\n",
       "      <td>101463</td>\n",
       "      <td>Al rojo vivo</td>\n",
       "      <td>ES</td>\n",
       "      <td>2465</td>\n",
       "      <td>3.0</td>\n",
       "      <td>15</td>\n",
       "      <td>298</td>\n",
       "      <td>200.0</td>\n",
       "      <td>2011-01-10</td>\n",
       "      <td>News</td>\n",
       "      <td>2011</td>\n",
       "      <td>January</td>\n",
       "    </tr>\n",
       "    <tr>\n",
       "      <th>2</th>\n",
       "      <td>2224</td>\n",
       "      <td>The Daily Show</td>\n",
       "      <td>US</td>\n",
       "      <td>1694</td>\n",
       "      <td>6.3</td>\n",
       "      <td>452</td>\n",
       "      <td>3830</td>\n",
       "      <td>26.0</td>\n",
       "      <td>1996-07-22</td>\n",
       "      <td>News</td>\n",
       "      <td>1996</td>\n",
       "      <td>July</td>\n",
       "    </tr>\n",
       "    <tr>\n",
       "      <th>3</th>\n",
       "      <td>1655</td>\n",
       "      <td>PBS NewsHour</td>\n",
       "      <td>US</td>\n",
       "      <td>569</td>\n",
       "      <td>5.4</td>\n",
       "      <td>42</td>\n",
       "      <td>2591</td>\n",
       "      <td>57.0</td>\n",
       "      <td>1975-10-20</td>\n",
       "      <td>News</td>\n",
       "      <td>1975</td>\n",
       "      <td>October</td>\n",
       "    </tr>\n",
       "    <tr>\n",
       "      <th>4</th>\n",
       "      <td>154300</td>\n",
       "      <td>Euronews Hoy</td>\n",
       "      <td>ES</td>\n",
       "      <td>566</td>\n",
       "      <td>4.8</td>\n",
       "      <td>10</td>\n",
       "      <td>647</td>\n",
       "      <td>30.0</td>\n",
       "      <td>2019-01-28</td>\n",
       "      <td>News</td>\n",
       "      <td>2019</td>\n",
       "      <td>January</td>\n",
       "    </tr>\n",
       "  </tbody>\n",
       "</table>\n",
       "</div>"
      ],
      "text/plain": [
       "   serie_id            name origin_country  popularity  vote_average  \\\n",
       "0     94722      Tagesschau             DE        3359           7.5   \n",
       "1    101463    Al rojo vivo             ES        2465           3.0   \n",
       "2      2224  The Daily Show             US        1694           6.3   \n",
       "3      1655    PBS NewsHour             US         569           5.4   \n",
       "4    154300    Euronews Hoy             ES         566           4.8   \n",
       "\n",
       "   vote_count  num_episodes  episode_duration first_air_date genre  \\\n",
       "0         147         20839              15.0     1952-12-26  News   \n",
       "1          15           298             200.0     2011-01-10  News   \n",
       "2         452          3830              26.0     1996-07-22  News   \n",
       "3          42          2591              57.0     1975-10-20  News   \n",
       "4          10           647              30.0     2019-01-28  News   \n",
       "\n",
       "   release_year release_month  \n",
       "0          1952      December  \n",
       "1          2011       January  \n",
       "2          1996          July  \n",
       "3          1975       October  \n",
       "4          2019       January  "
      ]
     },
     "execution_count": 11,
     "metadata": {},
     "output_type": "execute_result"
    }
   ],
   "source": [
    "series.head(5)"
   ]
  },
  {
   "cell_type": "markdown",
   "metadata": {},
   "source": [
    "## `Películas`"
   ]
  },
  {
   "cell_type": "markdown",
   "metadata": {},
   "source": [
    "- #### Películas a lo largo de los años"
   ]
  },
  {
   "cell_type": "code",
   "execution_count": 19,
   "metadata": {},
   "outputs": [],
   "source": [
    "#En primer lugar, vamos a centrar el estudio del análisis hasta el año 2023, no vamos a contar con las películas que se estrenen posteriormente\n",
    "\n",
    "films = films[films['release_year'] <= 2023]"
   ]
  },
  {
   "cell_type": "code",
   "execution_count": 20,
   "metadata": {},
   "outputs": [
    {
     "data": {
      "image/png": "[encoded data removed]",
      "text/plain": [
       "<Figure size 1200x600 with 1 Axes>"
      ]
     },
     "metadata": {},
     "output_type": "display_data"
    }
   ],
   "source": [
    "# Agrupamos el df por año de lanzamiento y ccontamos las películas por año\n",
    "films_by_year = films.groupby('release_year')['film_id'].count()\n",
    "\n",
    "# Creamos un gráfico de líneas\n",
    "plt.figure(figsize=(12, 6))\n",
    "plt.plot(films_by_year.index, films_by_year.values, linestyle='-')\n",
    "\n",
    "# Etiquetas y título del gráfico\n",
    "plt.xlabel('Año de Lanzamiento')\n",
    "plt.ylabel('Cantidad de Películas')\n",
    "plt.title('Cantidad de Películas Lanzadas por Año')\n",
    "\n",
    "# Mostrar el gráfico\n",
    "plt.grid(True)\n",
    "plt.show()"
   ]
  },
  {
   "cell_type": "markdown",
   "metadata": {},
   "source": [
    "- #### Principales idiomas originales"
   ]
  },
  {
   "cell_type": "code",
   "execution_count": 58,
   "metadata": {},
   "outputs": [
    {
     "data": {
      "text/plain": [
       "original_language\n",
       "en    3116\n",
       "ja     220\n",
       "ko     137\n",
       "es      88\n",
       "fr      78\n",
       "it      62\n",
       "zh      56\n",
       "Name: film_id, dtype: int64"
      ]
     },
     "execution_count": 58,
     "metadata": {},
     "output_type": "execute_result"
    }
   ],
   "source": [
    "principal_languages = films.groupby('original_language')['film_id'].count().sort_values(ascending=False)[:7]\n",
    "principal_languages"
   ]
  },
  {
   "cell_type": "code",
   "execution_count": 68,
   "metadata": {},
   "outputs": [],
   "source": [
    "# Diccionario de mapeo de idiomas\n",
    "mapeo = {'en': 'Inglés', 'ja': 'Japonés', 'ko': 'Koreano', 'es': 'Español', \n",
    "         'fr': 'Francés', 'it': 'Italiano', 'zh': 'Chinno'}\n",
    "\n",
    "principal_languages.index = principal_languages.index.map(mapeo)"
   ]
  },
  {
   "cell_type": "code",
   "execution_count": 73,
   "metadata": {},
   "outputs": [
    {
     "data": {
      "image/png": "[encoded data removed]",
      "text/plain": [
       "<Figure size 600x600 with 1 Axes>"
      ]
     },
     "metadata": {},
     "output_type": "display_data"
    }
   ],
   "source": [
    "labels = principal_languages.index\n",
    "data = principal_languages.values\n",
    "\n",
    "# Create a pieplot\n",
    "plt.figure(figsize=(6, 6))\n",
    "plt.pie(data, labels=labels,  autopct='%.0f%%')\n",
    "\n",
    "# add a circle at the center to transform it in a donut chart\n",
    "my_circle=plt.Circle( (0,0), 0.5, color='white')\n",
    "p=plt.gcf()\n",
    "p.gca().add_artist(my_circle)\n",
    "\n",
    "# Título del gráfico\n",
    "plt.title('Principales idiomas')\n",
    "\n",
    "\n",
    "plt.show()"
   ]
  },
  {
   "cell_type": "markdown",
   "metadata": {},
   "source": [
    "- #### Película más popular y películas con mejor valoración"
   ]
  },
  {
   "cell_type": "code",
   "execution_count": 88,
   "metadata": {},
   "outputs": [
    {
     "data": {
      "text/html": [
       "<div>\n",
       "<style scoped>\n",
       "    .dataframe tbody tr th:only-of-type {\n",
       "        vertical-align: middle;\n",
       "    }\n",
       "\n",
       "    .dataframe tbody tr th {\n",
       "        vertical-align: top;\n",
       "    }\n",
       "\n",
       "    .dataframe thead th {\n",
       "        text-align: right;\n",
       "    }\n",
       "</style>\n",
       "<table border=\"1\" class=\"dataframe\">\n",
       "  <thead>\n",
       "    <tr style=\"text-align: right;\">\n",
       "      <th></th>\n",
       "      <th>film_id</th>\n",
       "      <th>title</th>\n",
       "      <th>original_language</th>\n",
       "      <th>genre_ids</th>\n",
       "      <th>release_date</th>\n",
       "      <th>popularity</th>\n",
       "      <th>vote_average</th>\n",
       "      <th>vote_count</th>\n",
       "      <th>id</th>\n",
       "      <th>genre</th>\n",
       "      <th>release_year</th>\n",
       "      <th>release_month</th>\n",
       "    </tr>\n",
       "  </thead>\n",
       "  <tbody>\n",
       "    <tr>\n",
       "      <th>0</th>\n",
       "      <td>565770</td>\n",
       "      <td>Blue Beetle</td>\n",
       "      <td>en</td>\n",
       "      <td>28</td>\n",
       "      <td>2023-08-16</td>\n",
       "      <td>2973</td>\n",
       "      <td>7.2</td>\n",
       "      <td>956</td>\n",
       "      <td>28</td>\n",
       "      <td>Action</td>\n",
       "      <td>2023</td>\n",
       "      <td>August</td>\n",
       "    </tr>\n",
       "  </tbody>\n",
       "</table>\n",
       "</div>"
      ],
      "text/plain": [
       "   film_id        title original_language  genre_ids release_date  popularity  \\\n",
       "0   565770  Blue Beetle                en         28   2023-08-16        2973   \n",
       "\n",
       "   vote_average  vote_count  id   genre  release_year release_month  \n",
       "0           7.2         956  28  Action          2023        August  "
      ]
     },
     "execution_count": 88,
     "metadata": {},
     "output_type": "execute_result"
    }
   ],
   "source": [
    "films_sorted_by_popularity = films.sort_values(by='popularity', ascending=False)\n",
    "films_sorted_by_popularity.head(1)"
   ]
  },
  {
   "cell_type": "code",
   "execution_count": 91,
   "metadata": {},
   "outputs": [
    {
     "data": {
      "text/html": [
       "<div>\n",
       "<style scoped>\n",
       "    .dataframe tbody tr th:only-of-type {\n",
       "        vertical-align: middle;\n",
       "    }\n",
       "\n",
       "    .dataframe tbody tr th {\n",
       "        vertical-align: top;\n",
       "    }\n",
       "\n",
       "    .dataframe thead th {\n",
       "        text-align: right;\n",
       "    }\n",
       "</style>\n",
       "<table border=\"1\" class=\"dataframe\">\n",
       "  <thead>\n",
       "    <tr style=\"text-align: right;\">\n",
       "      <th></th>\n",
       "      <th>film_id</th>\n",
       "      <th>title</th>\n",
       "      <th>original_language</th>\n",
       "      <th>genre_ids</th>\n",
       "      <th>release_date</th>\n",
       "      <th>popularity</th>\n",
       "      <th>vote_average</th>\n",
       "      <th>vote_count</th>\n",
       "      <th>id</th>\n",
       "      <th>genre</th>\n",
       "      <th>release_year</th>\n",
       "      <th>release_month</th>\n",
       "    </tr>\n",
       "  </thead>\n",
       "  <tbody>\n",
       "    <tr>\n",
       "      <th>2769</th>\n",
       "      <td>1175107</td>\n",
       "      <td>My Otaku Girlfriend</td>\n",
       "      <td>es</td>\n",
       "      <td>18</td>\n",
       "      <td>2023-09-28</td>\n",
       "      <td>64</td>\n",
       "      <td>10.0</td>\n",
       "      <td>1</td>\n",
       "      <td>18</td>\n",
       "      <td>Drama</td>\n",
       "      <td>2023</td>\n",
       "      <td>September</td>\n",
       "    </tr>\n",
       "    <tr>\n",
       "      <th>2807</th>\n",
       "      <td>1032194</td>\n",
       "      <td>The Blind</td>\n",
       "      <td>en</td>\n",
       "      <td>18</td>\n",
       "      <td>2023-09-28</td>\n",
       "      <td>48</td>\n",
       "      <td>10.0</td>\n",
       "      <td>3</td>\n",
       "      <td>18</td>\n",
       "      <td>Drama</td>\n",
       "      <td>2023</td>\n",
       "      <td>September</td>\n",
       "    </tr>\n",
       "    <tr>\n",
       "      <th>2851</th>\n",
       "      <td>1105832</td>\n",
       "      <td>Simón</td>\n",
       "      <td>en</td>\n",
       "      <td>18</td>\n",
       "      <td>2023-04-15</td>\n",
       "      <td>40</td>\n",
       "      <td>10.0</td>\n",
       "      <td>1</td>\n",
       "      <td>18</td>\n",
       "      <td>Drama</td>\n",
       "      <td>2023</td>\n",
       "      <td>April</td>\n",
       "    </tr>\n",
       "    <tr>\n",
       "      <th>2890</th>\n",
       "      <td>731159</td>\n",
       "      <td>Female Boss Hooker</td>\n",
       "      <td>ko</td>\n",
       "      <td>18</td>\n",
       "      <td>2020-08-31</td>\n",
       "      <td>49</td>\n",
       "      <td>10.0</td>\n",
       "      <td>1</td>\n",
       "      <td>18</td>\n",
       "      <td>Drama</td>\n",
       "      <td>2020</td>\n",
       "      <td>August</td>\n",
       "    </tr>\n",
       "    <tr>\n",
       "      <th>3053</th>\n",
       "      <td>1118256</td>\n",
       "      <td>Keramat Tunggak</td>\n",
       "      <td>id</td>\n",
       "      <td>18</td>\n",
       "      <td>2023-04-21</td>\n",
       "      <td>24</td>\n",
       "      <td>10.0</td>\n",
       "      <td>1</td>\n",
       "      <td>18</td>\n",
       "      <td>Drama</td>\n",
       "      <td>2023</td>\n",
       "      <td>April</td>\n",
       "    </tr>\n",
       "    <tr>\n",
       "      <th>3187</th>\n",
       "      <td>1135727</td>\n",
       "      <td>Sugapa</td>\n",
       "      <td>tl</td>\n",
       "      <td>18</td>\n",
       "      <td>2023-08-25</td>\n",
       "      <td>26</td>\n",
       "      <td>10.0</td>\n",
       "      <td>1</td>\n",
       "      <td>18</td>\n",
       "      <td>Drama</td>\n",
       "      <td>2023</td>\n",
       "      <td>August</td>\n",
       "    </tr>\n",
       "    <tr>\n",
       "      <th>3900</th>\n",
       "      <td>1173464</td>\n",
       "      <td>Fanny Ardant - Naissance d'une passion</td>\n",
       "      <td>fr</td>\n",
       "      <td>99</td>\n",
       "      <td>2023-09-27</td>\n",
       "      <td>20</td>\n",
       "      <td>10.0</td>\n",
       "      <td>1</td>\n",
       "      <td>99</td>\n",
       "      <td>Documentary</td>\n",
       "      <td>2023</td>\n",
       "      <td>September</td>\n",
       "    </tr>\n",
       "  </tbody>\n",
       "</table>\n",
       "</div>"
      ],
      "text/plain": [
       "      film_id                                   title original_language  \\\n",
       "2769  1175107                     My Otaku Girlfriend                es   \n",
       "2807  1032194                               The Blind                en   \n",
       "2851  1105832                                   Simón                en   \n",
       "2890   731159                      Female Boss Hooker                ko   \n",
       "3053  1118256                         Keramat Tunggak                id   \n",
       "3187  1135727                                  Sugapa                tl   \n",
       "3900  1173464  Fanny Ardant - Naissance d'une passion                fr   \n",
       "\n",
       "      genre_ids release_date  popularity  vote_average  vote_count  id  \\\n",
       "2769         18   2023-09-28          64          10.0           1  18   \n",
       "2807         18   2023-09-28          48          10.0           3  18   \n",
       "2851         18   2023-04-15          40          10.0           1  18   \n",
       "2890         18   2020-08-31          49          10.0           1  18   \n",
       "3053         18   2023-04-21          24          10.0           1  18   \n",
       "3187         18   2023-08-25          26          10.0           1  18   \n",
       "3900         99   2023-09-27          20          10.0           1  99   \n",
       "\n",
       "            genre  release_year release_month  \n",
       "2769        Drama          2023     September  \n",
       "2807        Drama          2023     September  \n",
       "2851        Drama          2023         April  \n",
       "2890        Drama          2020        August  \n",
       "3053        Drama          2023         April  \n",
       "3187        Drama          2023        August  \n",
       "3900  Documentary          2023     September  "
      ]
     },
     "execution_count": 91,
     "metadata": {},
     "output_type": "execute_result"
    }
   ],
   "source": [
    "films[films['vote_average'] == 10]"
   ]
  },
  {
   "cell_type": "markdown",
   "metadata": {},
   "source": [
    "- #### ¿Una mayor popularidad implica una mejor valoración? "
   ]
  },
  {
   "cell_type": "code",
   "execution_count": 94,
   "metadata": {},
   "outputs": [
    {
     "data": {
      "image/png": "[encoded data removed]",
      "text/plain": [
       "<Figure size 640x480 with 1 Axes>"
      ]
     },
     "metadata": {},
     "output_type": "display_data"
    }
   ],
   "source": [
    "# Crear el gráfico de dispersión\n",
    "plt.scatter(films['popularity'], films['vote_average'], alpha=0.5)  # alpha ajusta la transparencia de los puntos\n",
    "\n",
    "# Etiquetas de los ejes y título\n",
    "plt.xlabel('Popularidad')\n",
    "plt.ylabel('Votación Media')\n",
    "plt.title('Relación entre Popularidad y Valoraciones')\n",
    "\n",
    "# Mostrar el gráfico\n",
    "plt.show()"
   ]
  },
  {
   "cell_type": "markdown",
   "metadata": {},
   "source": [
    "- #### Valoraciones y popularidad de las películas en función de sus géneros"
   ]
  },
  {
   "cell_type": "code",
   "execution_count": null,
   "metadata": {},
   "outputs": [],
   "source": []
  },
  {
   "cell_type": "code",
   "execution_count": null,
   "metadata": {},
   "outputs": [],
   "source": []
  },
  {
   "cell_type": "markdown",
   "metadata": {},
   "source": [
    "## `Series`"
   ]
  },
  {
   "cell_type": "code",
   "execution_count": null,
   "metadata": {},
   "outputs": [],
   "source": []
  },
  {
   "cell_type": "code",
   "execution_count": null,
   "metadata": {},
   "outputs": [],
   "source": []
  }
 ],
 "metadata": {
  "kernelspec": {
   "display_name": "Python 3",
   "language": "python",
   "name": "python3"
  },
  "language_info": {
   "codemirror_mode": {
    "name": "ipython",
    "version": 3
   },
   "file_extension": ".py",
   "mimetype": "text/x-python",
   "name": "python",
   "nbconvert_exporter": "python",
   "pygments_lexer": "ipython3",
   "version": "3.7.4"
  },
  "orig_nbformat": 4
 },
 "nbformat": 4,
 "nbformat_minor": 2
}
